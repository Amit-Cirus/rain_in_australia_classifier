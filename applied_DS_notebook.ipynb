{
 "cells": [
  {
   "cell_type": "code",
   "id": "initial_id",
   "metadata": {
    "collapsed": true
   },
   "source": [
    "import pandas as pd\n",
    "import os\n",
    "from kaggle.api.kaggle_api_extended import KaggleApi\n",
    "import matplotlib.pyplot as plt\n",
    "%matplotlib notebook\n",
    "import numpy as np\n",
    "from scipy.stats import skew, kurtosis\n",
    "from sklearn.mixture import GaussianMixture\n",
    "\n",
    "\n",
    "os.environ['KAGGLE_CONFIG_DIR'] = r'C:\\Users\\amitb\\.kaggle'\n",
    "api = KaggleApi()\n",
    "api.authenticate()\n",
    "print(\"Kaggle authentication successful!\")"
   ],
   "outputs": [],
   "execution_count": null
  },
  {
   "metadata": {},
   "cell_type": "code",
   "source": [
    "data = pd.read_csv(r\"C:\\code_projects\\applied_DS\\rain_in_australia_classifier\\weatherAUS.csv\")\n",
    "print(f'There are {data.shape[0]} samples within the dataset')\n",
    "data.head(10)"
   ],
   "id": "84dca29750fd9db7",
   "outputs": [],
   "execution_count": null
  },
  {
   "metadata": {},
   "cell_type": "code",
   "source": "data.describe(include='all')",
   "id": "7a93a3f4d1557163",
   "outputs": [],
   "execution_count": null
  },
  {
   "metadata": {},
   "cell_type": "code",
   "source": [
    "numeric_cols = data.select_dtypes(include=[\"number\"]).columns.tolist()\n",
    "\n",
    "for numeric_col in numeric_cols:\n",
    "    data[numeric_col] = data[numeric_col].astype(float)\n",
    "\n",
    "\n",
    "categorical_cols = data.select_dtypes(include=[\"object\"]).columns.tolist()\n",
    "categorical_cols.remove('Date')\n",
    "\n",
    "for categorical_col in categorical_cols:\n",
    "    data[categorical_col] = data[categorical_col].astype('category')\n",
    "\n",
    "data['Date'] = data['Date'].astype('datetime64[ns]')\n",
    "\n",
    "data.dtypes"
   ],
   "id": "45e2cd94e061c13c",
   "outputs": [],
   "execution_count": null
  },
  {
   "metadata": {},
   "cell_type": "code",
   "source": [
    "# checking NA\n",
    "\n",
    "mising_values_col_sum = pd.Series(data.isnull().sum(), name='% of NA').apply(lambda x: f\"{(x / data.shape[0] * 100):.2f}\").astype('float').sort_values(ascending=False)\n",
    "mising_values_col_sum"
   ],
   "id": "4a6ca2c6656fb336",
   "outputs": [],
   "execution_count": null
  },
  {
   "metadata": {},
   "cell_type": "code",
   "source": [
    "features = ['Sunshine', 'Evaporation', 'Cloud3pm','Cloud9am','Pressure9am','Pressure3pm']\n",
    "\n",
    "n_features = len(features)\n",
    "fig, axes = plt.subplots(n_features, 1, figsize=(8, 4*n_features))  # vertical layout\n",
    "\n",
    "for i, feature in enumerate(features):\n",
    "    axes[i].hist(data[feature], bins=20, color='skyblue', edgecolor='black')\n",
    "    axes[i].set_title(f'{feature} | % missing values {mising_values_col_sum[feature]}')\n",
    "    axes[i].set_xlabel(feature)\n",
    "    axes[i].set_ylabel('Frequency')\n",
    "\n",
    "plt.tight_layout()\n",
    "plt.show()"
   ],
   "id": "bf85fff9c644ad00",
   "outputs": [],
   "execution_count": null
  },
  {
   "metadata": {},
   "cell_type": "code",
   "source": [
    "# detect features without normal distribution\n",
    "\n",
    "\n",
    "results = {'feature': [], 'Skewness': [], 'Excess_Kurtosis': []}\n",
    "\n",
    "for column in features:\n",
    "    x = data[column].dropna()\n",
    "    results['feature'].append(column)\n",
    "    results['Skewness'].append(skew(x))\n",
    "    results['Excess_Kurtosis'].append(kurtosis(x))\n",
    "\n",
    "pd.DataFrame(results)\n",
    "\n"
   ],
   "id": "c6bf2ea364152bba",
   "outputs": [],
   "execution_count": null
  },
  {
   "metadata": {},
   "cell_type": "code",
   "source": [
    "#fillna with random choise to preserves the skewed distribution and extreme values (for Evaporation which dosen't have bi-mode / normal dist)\n",
    "\n",
    "observed = data['Evaporation'].dropna()\n",
    "data['Evaporation'] = data['Evaporation'].fillna(np.random.choice(observed))"
   ],
   "id": "3a66b8f40861815b",
   "outputs": [],
   "execution_count": null
  },
  {
   "metadata": {},
   "cell_type": "code",
   "source": [
    "# Predict cluster for missing values randomly based on cluster weights for features with bi-modal distribution\n",
    "\n",
    "bi_mode_features = ['Cloud3pm', 'Cloud9am', 'Sunshine']\n",
    "\n",
    "for col in bi_mode_features:\n",
    "    observed = data[col].dropna().values.reshape(-1,1)\n",
    "\n",
    "    # Fit 2-component GMM\n",
    "    gmm = GaussianMixture(n_components=2, random_state=42)\n",
    "    gmm.fit(observed)\n",
    "\n",
    "    # Missing indices\n",
    "    missing_idx = data[col].isna()\n",
    "    n_missing = missing_idx.sum()\n",
    "\n",
    "    # Assign clusters to missing values\n",
    "    sampled_cluster = np.random.choice(2, size=n_missing, p=gmm.weights_)\n",
    "\n",
    "    # Get cluster labels for observed values\n",
    "    cluster_labels = gmm.predict(observed)\n",
    "\n",
    "    # Precompute cluster-wise observed values for faster sampling\n",
    "    cluster_values = [observed[cluster_labels == k].flatten() for k in range(2)]\n",
    "\n",
    "    # Vectorized imputation\n",
    "    imputed_values = np.array([np.random.choice(cluster_values[k]) for k in sampled_cluster])\n",
    "\n",
    "    data.loc[missing_idx, col] = imputed_values\n",
    "\n",
    "\n",
    "missing_after_GaussianMixture = pd.Series(data[bi_mode_features].isna().sum(),name='% missing')\n",
    "missing_after_GaussianMixture\n",
    "\n",
    "n_features = len(bi_mode_features)\n",
    "\n",
    "fig, axes = plt.subplots(n_features, 1, figsize=(8, 4*n_features))  # vertical layout\n",
    "\n",
    "for i, feature in enumerate(bi_mode_features):\n",
    "    axes[i].hist(data[feature], bins=20, color='skyblue', edgecolor='black')\n",
    "    axes[i].set_title(f'{feature} | % missing values: {missing_after_GaussianMixture[feature]}')\n",
    "    axes[i].set_xlabel(feature)\n",
    "    axes[i].set_ylabel('Frequency')\n",
    "\n",
    "plt.tight_layout()\n",
    "plt.show()\n"
   ],
   "id": "6098c6ecea1189d0",
   "outputs": [],
   "execution_count": null
  },
  {
   "metadata": {},
   "cell_type": "code",
   "source": [
    "#create categorical Season feature\n",
    "\n",
    "def get_season(date):\n",
    "    day = date.day\n",
    "    month = date.month\n",
    "\n",
    "    if (month == 12 and day >= 21) or (month <= 3 and (month < 3 or day <= 21)):\n",
    "        return 'Summer'\n",
    "    elif (month == 3 and day >= 22) or (month <= 6 and (month < 6 or day <= 21)):\n",
    "        return 'Autumn'\n",
    "    elif (month == 6 and day >= 22) or (month <= 9 and (month < 9 or day <= 21)):\n",
    "        return 'Winter'\n",
    "    elif (month == 9 and day >= 22) or (month <= 12 and (month < 12 or day <= 20)):\n",
    "        return 'Spring'\n",
    "\n",
    "data['Season'] = data['Date'].map(get_season)\n",
    "data['Season'] = data['Season'].astype('category')"
   ],
   "id": "fe4d0aa803d6a43c",
   "outputs": [],
   "execution_count": null
  },
  {
   "metadata": {},
   "cell_type": "code",
   "source": [
    "binary_dict = {'No': 0, 'Yes':1}\n",
    "\n",
    "data['RainToday']=data['RainToday'].map(binary_dict)\n",
    "data['RainTomorrow']=data['RainTomorrow'].map(binary_dict)"
   ],
   "id": "fc7542e749e132c0",
   "outputs": [],
   "execution_count": null
  },
  {
   "metadata": {},
   "cell_type": "code",
   "source": "",
   "id": "ba0c932f19d25a7a",
   "outputs": [],
   "execution_count": null
  }
 ],
 "metadata": {
  "kernelspec": {
   "display_name": "Python 3",
   "language": "python",
   "name": "python3"
  },
  "language_info": {
   "codemirror_mode": {
    "name": "ipython",
    "version": 2
   },
   "file_extension": ".py",
   "mimetype": "text/x-python",
   "name": "python",
   "nbconvert_exporter": "python",
   "pygments_lexer": "ipython2",
   "version": "2.7.6"
  }
 },
 "nbformat": 4,
 "nbformat_minor": 5
}
